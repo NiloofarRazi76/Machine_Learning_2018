{
 "cells": [
  {
   "cell_type": "markdown",
   "source": [
    "<div class=\"alert alert-info\">\n",
    "    <h1 align=\"center\">Normal Equation</h1>\n",
    "    <h3 align=\"center\"> Machine Learning (Fall 2018)</h3>\n",
    "    <h5 align=\"center\">Seyed Naser Razavi [ML2018](http://www.snrazavi.ir/ml-2018/)</h5>\n",
    "</div>"
   ],
   "metadata": {}
  },
  {
   "cell_type": "markdown",
   "source": [
    "## Introduction"
   ],
   "metadata": {}
  },
  {
   "cell_type": "markdown",
   "source": [
    "<img src='imgs/normal_equation_detail.png' width='75%'>"
   ],
   "metadata": {}
  },
  {
   "cell_type": "markdown",
   "source": [
    "**Goal.** Given $X$ and $y$, our goal is to find $\\theta$ such that: "
   ],
   "metadata": {}
  },
  {
   "cell_type": "markdown",
   "source": [
    "$$X \\theta = y$$"
   ],
   "metadata": {}
  },
  {
   "cell_type": "markdown",
   "source": [
    "1. To solve the above equation for $\\theta$, first we multiply both sides by $X^T$"
   ],
   "metadata": {}
  },
  {
   "cell_type": "markdown",
   "source": [
    "$$X^T X\\theta = X^T y$$ "
   ],
   "metadata": {}
  },
  {
   "cell_type": "markdown",
   "source": [
    "2. Now, we can compute the **inverse** matrix of $X^T X$ and multiply it on both sides of the above equation."
   ],
   "metadata": {}
  },
  {
   "cell_type": "markdown",
   "source": [
    "$$(X^T X)^{-1} (X^T X) \\theta = (X^T X)^{-1} X^T y$$ "
   ],
   "metadata": {}
  },
  {
   "cell_type": "markdown",
   "source": [
    "Hence, we obtatin"
   ],
   "metadata": {}
  },
  {
   "cell_type": "markdown",
   "source": [
    "$$\\theta = (X^T X)^{-1} X^T y = X^{+} y$$ "
   ],
   "metadata": {}
  },
  {
   "cell_type": "markdown",
   "source": [
    "<div class=\"alert alert-info\">\n",
    "    <strong>Pseudo-inverse:</strong> In the above equation, $X^+$ is called pseudo-inverse.\n",
    "</div>"
   ],
   "metadata": {}
  },
  {
   "cell_type": "markdown",
   "source": [
    "## Implentation in Python"
   ],
   "metadata": {}
  },
  {
   "cell_type": "code",
   "execution_count": 1,
   "source": [
    "import numpy as np\n",
    "from numpy.linalg import pinv  # pseudo-inverse\n",
    "\n",
    "np.set_printoptions(precision=2, sign=' ', suppress=True)"
   ],
   "outputs": [],
   "metadata": {
    "collapsed": true
   }
  },
  {
   "cell_type": "markdown",
   "source": [
    "### Inputs (design matrix)"
   ],
   "metadata": {}
  },
  {
   "cell_type": "code",
   "execution_count": 2,
   "source": [
    "X = np.array([[1, 2104, 5, 1, 45],\n",
    "              [1, 1416, 3, 2, 40],\n",
    "              [1, 1534, 3, 2, 30],\n",
    "              [1,  852, 2, 1, 36]])"
   ],
   "outputs": [],
   "metadata": {
    "collapsed": true
   }
  },
  {
   "cell_type": "code",
   "execution_count": 3,
   "source": [
    "print(X)"
   ],
   "outputs": [
    {
     "output_type": "stream",
     "name": "stdout",
     "text": [
      "[[   1 2104    5    1   45]\n",
      " [   1 1416    3    2   40]\n",
      " [   1 1534    3    2   30]\n",
      " [   1  852    2    1   36]]\n"
     ]
    }
   ],
   "metadata": {}
  },
  {
   "cell_type": "markdown",
   "source": [
    "### Outputs (targets)"
   ],
   "metadata": {}
  },
  {
   "cell_type": "code",
   "execution_count": 4,
   "source": [
    "y = np.array([[460.],\n",
    "              [232.],\n",
    "              [315.],\n",
    "              [178.]])"
   ],
   "outputs": [],
   "metadata": {
    "collapsed": true
   }
  },
  {
   "cell_type": "code",
   "execution_count": 5,
   "source": [
    "print(y)"
   ],
   "outputs": [
    {
     "output_type": "stream",
     "name": "stdout",
     "text": [
      "[[ 460.]\n",
      " [ 232.]\n",
      " [ 315.]\n",
      " [ 178.]]\n"
     ]
    }
   ],
   "metadata": {}
  },
  {
   "cell_type": "markdown",
   "source": [
    "### Solving Normal Equation"
   ],
   "metadata": {}
  },
  {
   "cell_type": "markdown",
   "source": [
    "$$\\theta = (X^T X)^{-1} X^T y = X^{+} y$$"
   ],
   "metadata": {}
  },
  {
   "cell_type": "code",
   "execution_count": 6,
   "source": [
    "# ??np.linalg.pinv  # getting help"
   ],
   "outputs": [],
   "metadata": {
    "collapsed": true
   }
  },
  {
   "cell_type": "code",
   "execution_count": 7,
   "source": [
    "theta = pinv(X) @ y"
   ],
   "outputs": [],
   "metadata": {
    "collapsed": true
   }
  },
  {
   "cell_type": "code",
   "execution_count": 8,
   "source": [
    "theta"
   ],
   "outputs": [
    {
     "output_type": "execute_result",
     "data": {
      "text/plain": [
       "array([[188.4 ],\n",
       "       [  0.39],\n",
       "       [-56.14],\n",
       "       [-92.97],\n",
       "       [ -3.74]])"
      ]
     },
     "metadata": {},
     "execution_count": 8
    }
   ],
   "metadata": {}
  },
  {
   "cell_type": "code",
   "execution_count": 9,
   "source": [
    "print(X @ theta)"
   ],
   "outputs": [
    {
     "output_type": "stream",
     "name": "stdout",
     "text": [
      "[[ 460.]\n",
      " [ 232.]\n",
      " [ 315.]\n",
      " [ 178.]]\n"
     ]
    }
   ],
   "metadata": {}
  },
  {
   "cell_type": "code",
   "execution_count": 10,
   "source": [
    "print(y)"
   ],
   "outputs": [
    {
     "output_type": "stream",
     "name": "stdout",
     "text": [
      "[[ 460.]\n",
      " [ 232.]\n",
      " [ 315.]\n",
      " [ 178.]]\n"
     ]
    }
   ],
   "metadata": {}
  },
  {
   "cell_type": "code",
   "execution_count": 11,
   "source": [
    "print(X @ theta == y)      # Wrong way to campare to float matrices"
   ],
   "outputs": [
    {
     "output_type": "stream",
     "name": "stdout",
     "text": [
      "[[False]\n",
      " [False]\n",
      " [False]\n",
      " [False]]\n"
     ]
    }
   ],
   "metadata": {}
  },
  {
   "cell_type": "code",
   "execution_count": 12,
   "source": [
    "np.allclose(X @ theta, y)  # correct way for comparing numpy matrices"
   ],
   "outputs": [
    {
     "output_type": "execute_result",
     "data": {
      "text/plain": [
       "True"
      ]
     },
     "metadata": {},
     "execution_count": 12
    }
   ],
   "metadata": {}
  },
  {
   "cell_type": "markdown",
   "source": [
    "### Better option:"
   ],
   "metadata": {}
  },
  {
   "cell_type": "markdown",
   "source": [
    "The matrix $X^T X$ may not be invertible."
   ],
   "metadata": {}
  },
  {
   "cell_type": "code",
   "execution_count": 13,
   "source": [
    "theta = pinv(X.T @ X) @ X.T @ y"
   ],
   "outputs": [],
   "metadata": {
    "collapsed": true
   }
  },
  {
   "cell_type": "code",
   "execution_count": 14,
   "source": [
    "theta"
   ],
   "outputs": [
    {
     "output_type": "execute_result",
     "data": {
      "text/plain": [
       "array([[188.4 ],\n",
       "       [  0.39],\n",
       "       [-56.14],\n",
       "       [-92.97],\n",
       "       [ -3.74]])"
      ]
     },
     "metadata": {},
     "execution_count": 14
    }
   ],
   "metadata": {}
  },
  {
   "cell_type": "code",
   "execution_count": 15,
   "source": [
    "np.allclose(X @ theta, y)"
   ],
   "outputs": [
    {
     "output_type": "execute_result",
     "data": {
      "text/plain": [
       "True"
      ]
     },
     "metadata": {},
     "execution_count": 15
    }
   ],
   "metadata": {}
  },
  {
   "cell_type": "markdown",
   "source": [
    "## Inverse and Pseudo-Inverse"
   ],
   "metadata": {}
  },
  {
   "cell_type": "markdown",
   "source": [
    "<div class=\"alert alert-info\">\n",
    "    <strong>Inverse: ($A^{-1}$)</strong>\n",
    "    $$A A^{-1} = A^{-1} A = I$$\n",
    "</div>"
   ],
   "metadata": {}
  },
  {
   "cell_type": "markdown",
   "source": [
    "<div class=\"alert alert-info\">\n",
    "    <strong>Pseudo-inverse: ($A^{+}$)</strong>\n",
    "    $$A^{+} = (A^T A)^{-1} A^T$$\n",
    "</div>"
   ],
   "metadata": {}
  },
  {
   "cell_type": "code",
   "execution_count": 16,
   "source": [
    "from numpy.linalg import inv, pinv"
   ],
   "outputs": [],
   "metadata": {
    "collapsed": true
   }
  },
  {
   "cell_type": "code",
   "execution_count": 17,
   "source": [
    "A = np.random.randn(3, 3)"
   ],
   "outputs": [],
   "metadata": {
    "collapsed": true
   }
  },
  {
   "cell_type": "code",
   "execution_count": 18,
   "source": [
    "A"
   ],
   "outputs": [
    {
     "output_type": "execute_result",
     "data": {
      "text/plain": [
       "array([[ 1.54, -0.67, -0.62],\n",
       "       [ 1.74, -2.1 , -0.26],\n",
       "       [ 1.  , -1.46,  0.12]])"
      ]
     },
     "metadata": {},
     "execution_count": 18
    }
   ],
   "metadata": {}
  },
  {
   "cell_type": "code",
   "execution_count": 19,
   "source": [
    "inv(A)"
   ],
   "outputs": [
    {
     "output_type": "execute_result",
     "data": {
      "text/plain": [
       "array([[ 1.64, -2.54,  2.9 ],\n",
       "       [ 1.22, -2.08,  1.75],\n",
       "       [ 1.14, -4.06,  5.32]])"
      ]
     },
     "metadata": {},
     "execution_count": 19
    }
   ],
   "metadata": {}
  },
  {
   "cell_type": "code",
   "execution_count": 20,
   "source": [
    "pinv(A)"
   ],
   "outputs": [
    {
     "output_type": "execute_result",
     "data": {
      "text/plain": [
       "array([[ 1.64, -2.54,  2.9 ],\n",
       "       [ 1.22, -2.08,  1.75],\n",
       "       [ 1.14, -4.06,  5.32]])"
      ]
     },
     "metadata": {},
     "execution_count": 20
    }
   ],
   "metadata": {}
  },
  {
   "cell_type": "markdown",
   "source": [
    "Check for equality"
   ],
   "metadata": {}
  },
  {
   "cell_type": "code",
   "execution_count": 21,
   "source": [
    "np.allclose(inv(A), pinv(A))"
   ],
   "outputs": [
    {
     "output_type": "execute_result",
     "data": {
      "text/plain": [
       "True"
      ]
     },
     "metadata": {},
     "execution_count": 21
    }
   ],
   "metadata": {}
  },
  {
   "cell_type": "markdown",
   "source": [
    "<div class=\"alert alert-success\">\n",
    "    <strong>Question:</strong> So, what is the difference between `inv` and `pinv`\n",
    "</div>"
   ],
   "metadata": {}
  },
  {
   "cell_type": "markdown",
   "source": [
    "<div class=\"alert alert-info\">\n",
    "    <strong>Theorem:</strong> If matrix $A$ is **non-singular**, then $A^{-1} = A^{+}$.\n",
    "</div>"
   ],
   "metadata": {}
  },
  {
   "cell_type": "markdown",
   "source": [
    "**Proof.**"
   ],
   "metadata": {}
  },
  {
   "cell_type": "markdown",
   "source": [
    "$$A^{+} = (A^T A)^{-1} A^T = (A^{-1} (A^T)^{-1}) A^T = A^{-1} ((A^T)^{-1} A^T) = A^{-1} I = A^{-1}$$"
   ],
   "metadata": {}
  },
  {
   "cell_type": "markdown",
   "source": [
    "But, what if the matrix is **singular**?"
   ],
   "metadata": {}
  },
  {
   "cell_type": "code",
   "execution_count": 22,
   "source": [
    "A = np.array([[1, 2, 3], \n",
    "              [4, 5, 6], \n",
    "              [2, 4, 6]])"
   ],
   "outputs": [],
   "metadata": {
    "collapsed": true
   }
  },
  {
   "cell_type": "markdown",
   "source": [
    "Now, if we try to compute `inv(A)`, we will get a `LinAlgError`! (try it yourself)"
   ],
   "metadata": {}
  },
  {
   "cell_type": "markdown",
   "source": [
    "<img src='imgs/linAlgError-SingularMatrix.png' width='76%'>"
   ],
   "metadata": {}
  },
  {
   "cell_type": "code",
   "execution_count": 23,
   "source": [
    "pinv(A)"
   ],
   "outputs": [
    {
     "output_type": "execute_result",
     "data": {
      "text/plain": [
       "array([[-0.19,  0.44, -0.38],\n",
       "       [-0.02,  0.11, -0.04],\n",
       "       [ 0.14, -0.22,  0.29]])"
      ]
     },
     "metadata": {},
     "execution_count": 23
    }
   ],
   "metadata": {}
  },
  {
   "cell_type": "markdown",
   "source": [
    "## Another Example"
   ],
   "metadata": {
    "heading_collapsed": true
   }
  },
  {
   "cell_type": "code",
   "execution_count": 24,
   "source": [
    "# inputs (or design matrix)\n",
    "X = np.array([[1, 2104, 5, 1, 45],\n",
    "              [1, 1416, 3, 2, 40],\n",
    "              [1, 1534, 3, 2, 30],\n",
    "              [1,  852, 2, 1, 36], \n",
    "              [1, 3000, 4, 1, 38]])"
   ],
   "outputs": [],
   "metadata": {
    "collapsed": true,
    "hidden": true
   }
  },
  {
   "cell_type": "code",
   "execution_count": 25,
   "source": [
    "# desired outputs\n",
    "y = np.array([[460.],\n",
    "              [232.],\n",
    "              [315.],\n",
    "              [178.], \n",
    "              [540.]])"
   ],
   "outputs": [],
   "metadata": {
    "collapsed": true,
    "hidden": true
   }
  },
  {
   "cell_type": "code",
   "execution_count": 26,
   "source": [
    "theta = pinv(X.T @ X) @ X.T @ y"
   ],
   "outputs": [],
   "metadata": {
    "collapsed": true,
    "hidden": true
   }
  },
  {
   "cell_type": "code",
   "execution_count": 27,
   "source": [
    "theta"
   ],
   "outputs": [
    {
     "output_type": "execute_result",
     "data": {
      "text/plain": [
       "array([[247.03],\n",
       "       [  0.11],\n",
       "       [ 68.55],\n",
       "       [-49.32],\n",
       "       [ -6.99]])"
      ]
     },
     "metadata": {},
     "execution_count": 27
    }
   ],
   "metadata": {
    "collapsed": true,
    "hidden": true
   }
  },
  {
   "cell_type": "code",
   "execution_count": 28,
   "source": [
    "X @ theta"
   ],
   "outputs": [
    {
     "output_type": "execute_result",
     "data": {
      "text/plain": [
       "array([[ 460.],\n",
       "       [ 232.],\n",
       "       [ 315.],\n",
       "       [ 178.],\n",
       "       [ 540.]])"
      ]
     },
     "metadata": {},
     "execution_count": 28
    }
   ],
   "metadata": {
    "collapsed": true,
    "hidden": true
   }
  },
  {
   "cell_type": "code",
   "execution_count": 29,
   "source": [
    "y"
   ],
   "outputs": [
    {
     "output_type": "execute_result",
     "data": {
      "text/plain": [
       "array([[ 460.],\n",
       "       [ 232.],\n",
       "       [ 315.],\n",
       "       [ 178.],\n",
       "       [ 540.]])"
      ]
     },
     "metadata": {},
     "execution_count": 29
    }
   ],
   "metadata": {
    "collapsed": true,
    "hidden": true
   }
  },
  {
   "cell_type": "code",
   "execution_count": 30,
   "source": [
    "np.allclose(X @ theta, y)"
   ],
   "outputs": [
    {
     "output_type": "execute_result",
     "data": {
      "text/plain": [
       "True"
      ]
     },
     "metadata": {},
     "execution_count": 30
    }
   ],
   "metadata": {
    "collapsed": true,
    "hidden": true
   }
  },
  {
   "cell_type": "markdown",
   "source": [
    "## Psuedo-inverse properties (optional)"
   ],
   "metadata": {}
  },
  {
   "cell_type": "markdown",
   "source": [
    "<div class=\"alert alert-info\">\n",
    "    <strong>Property 1:</strong>\n",
    "    $$(A^+)^+ = A$$\n",
    "</div>"
   ],
   "metadata": {}
  },
  {
   "cell_type": "code",
   "execution_count": 31,
   "source": [
    "np.allclose(pinv(pinv(X)), X)"
   ],
   "outputs": [
    {
     "output_type": "execute_result",
     "data": {
      "text/plain": [
       "True"
      ]
     },
     "metadata": {},
     "execution_count": 31
    }
   ],
   "metadata": {}
  },
  {
   "cell_type": "markdown",
   "source": [
    "<div class=\"alert alert-info\">\n",
    "    <strong>Property 2:</strong>\n",
    "    $$A A^+ A = A$$\n",
    "</div>"
   ],
   "metadata": {}
  },
  {
   "cell_type": "code",
   "execution_count": 32,
   "source": [
    "np.allclose(X @ pinv(X) @ X, X)"
   ],
   "outputs": [
    {
     "output_type": "execute_result",
     "data": {
      "text/plain": [
       "True"
      ]
     },
     "metadata": {},
     "execution_count": 32
    }
   ],
   "metadata": {}
  },
  {
   "cell_type": "markdown",
   "source": [
    "<div class=\"alert alert-info\">\n",
    "    <strong>Property 3:</strong>\n",
    "    $$A^+ A A^+ = A^+$$\n",
    "</div>"
   ],
   "metadata": {}
  },
  {
   "cell_type": "code",
   "execution_count": 33,
   "source": [
    "np.allclose(pinv(X) @ X @ pinv(X), pinv(X))"
   ],
   "outputs": [
    {
     "output_type": "execute_result",
     "data": {
      "text/plain": [
       "True"
      ]
     },
     "metadata": {},
     "execution_count": 33
    }
   ],
   "metadata": {}
  }
 ],
 "metadata": {
  "kernelspec": {
   "name": "python3",
   "display_name": "Python 3.9.7 64-bit ('venv': venv)"
  },
  "language_info": {
   "codemirror_mode": {
    "name": "ipython",
    "version": 3
   },
   "file_extension": ".py",
   "mimetype": "text/x-python",
   "name": "python",
   "nbconvert_exporter": "python",
   "pygments_lexer": "ipython3",
   "version": "3.9.7"
  },
  "interpreter": {
   "hash": "6fd24dc732891b5f87b0cf4d9c4a9ecb93a25a51929f0934071c5bb9199a7603"
  }
 },
 "nbformat": 4,
 "nbformat_minor": 2
}